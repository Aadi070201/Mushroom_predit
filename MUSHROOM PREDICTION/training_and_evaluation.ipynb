{
 "cells": [
  {
   "cell_type": "markdown",
   "metadata": {},
   "source": [
    "# Training and model evaluation\n",
    "\n",
    "In this notebook you should write a script for training your model. It can be used to show to the client some intricacies of the model and dataset. Each cell already loads the functions you'll need to use (you are free to change or rearrange). Before executing the cells below, remember to select the correct kernel."
   ]
  },
  {
   "cell_type": "code",
   "execution_count": 2,
   "metadata": {},
   "outputs": [],
   "source": [
    "# Automatically re-import files when updated\n",
    "%load_ext autoreload\n",
    "%autoreload 2"
   ]
  },
  {
   "cell_type": "markdown",
   "metadata": {},
   "source": [
    "## Dataset"
   ]
  },
  {
   "cell_type": "markdown",
   "metadata": {},
   "source": [
    "In this step we aim to load the mushroom dataset\n",
    "Displaying the information recevied from the dataset which includes number of entries,data type, null counts\n"
   ]
  },
  {
   "cell_type": "code",
   "execution_count": 3,
   "metadata": {},
   "outputs": [
    {
     "name": "stdout",
     "output_type": "stream",
     "text": [
      "12214\n",
      "<class 'pandas.core.frame.DataFrame'>\n",
      "RangeIndex: 61069 entries, 0 to 61068\n",
      "Data columns (total 21 columns):\n",
      " #   Column                Non-Null Count  Dtype  \n",
      "---  ------                --------------  -----  \n",
      " 0   edible                61069 non-null  int64  \n",
      " 1   cap-diameter          61069 non-null  float64\n",
      " 2   cap-shape             61069 non-null  object \n",
      " 3   cap-surface           46949 non-null  object \n",
      " 4   cap-color             61069 non-null  object \n",
      " 5   does-bruise-or-bleed  61069 non-null  object \n",
      " 6   gill-attachment       51185 non-null  object \n",
      " 7   gill-spacing          36006 non-null  object \n",
      " 8   gill-color            61069 non-null  object \n",
      " 9   stem-height           61069 non-null  float64\n",
      " 10  stem-width            61069 non-null  float64\n",
      " 11  stem-root             9531 non-null   object \n",
      " 12  stem-surface          22945 non-null  object \n",
      " 13  stem-color            61069 non-null  object \n",
      " 14  veil-type             3177 non-null   object \n",
      " 15  veil-color            7413 non-null   object \n",
      " 16  has-ring              61069 non-null  object \n",
      " 17  ring-type             58598 non-null  object \n",
      " 18  spore-print-color     6354 non-null   object \n",
      " 19  habitat               61069 non-null  object \n",
      " 20  season                61069 non-null  object \n",
      "dtypes: float64(3), int64(1), object(17)\n",
      "memory usage: 9.8+ MB\n"
     ]
    }
   ],
   "source": [
    "from data_loader import load_data, split_train_test\n",
    "from visualizers import plot_data_set\n",
    "\n",
    "# Create a train-test split \n",
    "raw_data = load_data()       #load the data set\n",
    "raw_data.info()              #Display information obtained from the dataset"
   ]
  },
  {
   "cell_type": "markdown",
   "metadata": {},
   "source": [
    "The following line of code splits the data into training and testing sets"
   ]
  },
  {
   "cell_type": "code",
   "execution_count": 17,
   "metadata": {},
   "outputs": [],
   "source": [
    "train_data, test_data = split_train_test(raw_data)       #split raw_data into train_data and test_data  "
   ]
  },
  {
   "cell_type": "code",
   "execution_count": 5,
   "metadata": {},
   "outputs": [
    {
     "data": {
      "text/plain": [
       "<Figure size 1000x500 with 0 Axes>"
      ]
     },
     "metadata": {},
     "output_type": "display_data"
    },
    {
     "data": {
      "image/png": "[encoded data removed]",
      "text/plain": [
       "<Figure size 640x480 with 1 Axes>"
      ]
     },
     "metadata": {},
     "output_type": "display_data"
    }
   ],
   "source": [
    "# Visualize some interesting features of the training set\n",
    "plot_data_set(train_data)"
   ]
  },
  {
   "cell_type": "markdown",
   "metadata": {},
   "source": [
    "## Pre-processing pipeline"
   ]
  },
  {
   "cell_type": "markdown",
   "metadata": {},
   "source": [
    "This is the process of building a pipeline, training and applying data processing pipeline\n",
    "This is used to preprocess the data before feeding it to the model"
   ]
  },
  {
   "cell_type": "code",
   "execution_count": 6,
   "metadata": {},
   "outputs": [],
   "source": [
    "from pipelines import apply_pipeline, build_pipeline, save_pipeline, train_pipeline,load_pipeline\n",
    "data = load_data()                               #loading data\n",
    "train_set, test_set = split_train_test(data)                \n",
    "# <ASSIGNMENT 3.4: Train and apply the pipeline>\n",
    "pipeline = build_pipeline()                    #building the data processing pipeline\n",
    "trained_pipeline = train_pipeline(pipeline, train_set)          #training the pipeline on the training set\n",
    "save_pipeline(trained_pipeline)                    #save the pipeline into a file for further use\n",
    "#Applying the pipeline to the training set and the testing set\n",
    "X_train, y_train = apply_pipeline(trained_pipeline, train_set)        \n",
    "X_test, y_test = apply_pipeline(trained_pipeline, test_set)\n",
    "\n"
   ]
  },
  {
   "cell_type": "markdown",
   "metadata": {},
   "source": [
    "## Modeling"
   ]
  },
  {
   "cell_type": "markdown",
   "metadata": {},
   "source": [
    "In this process we are building a model and perfoming cross validation and reporting the scores obtained from it.\n",
    "This is to make sure that the model is robust"
   ]
  },
  {
   "cell_type": "code",
   "execution_count": 7,
   "metadata": {},
   "outputs": [
    {
     "name": "stdout",
     "output_type": "stream",
     "text": [
      "fetching the results...\n",
      "Cross-validation scores: [0.99877188 0.99948828 0.99979531 0.99938594 0.99948828]\n"
     ]
    }
   ],
   "source": [
    "from models import build_model, cross_validate_model, save_model, train_model\n",
    "\n",
    "# <ASSIGNMENT 3.7: Run cross-validation and report scores>\n",
    "print(\"fetching the results...\")\n",
    "model = build_model()               #building the model\n",
    "cv_scores = cross_validate_model(model,X_train,y_train)         #perfoming cross validation\n",
    "print(\"Cross-validation scores:\", cv_scores)            #Displaying the scores\n"
   ]
  },
  {
   "cell_type": "markdown",
   "metadata": {},
   "source": [
    "## Model comparison"
   ]
  },
  {
   "cell_type": "markdown",
   "metadata": {},
   "source": [
    "Hyper parameter tuning or fine tuning the model\n",
    "Now, we will fine tune the model by searching for optimal hyper parameters."
   ]
  },
  {
   "cell_type": "code",
   "execution_count": 8,
   "metadata": {},
   "outputs": [
    {
     "name": "stdout",
     "output_type": "stream",
     "text": [
      "finding the hyperparameters..\n",
      "Fitting 5 folds for each of 12 candidates, totalling 60 fits\n",
      "best params : {'max_depth': 10, 'min_samples_split': 2, 'n_estimators': 15}\n"
     ]
    }
   ],
   "source": [
    "from models import finetune_model\n",
    "\n",
    "# Perform a search over model hyperparameters\n",
    "print(\"finding the hyperparameters..\")                  \n",
    "best_params = finetune_model(build_model(), X_train, y_train)      #fine tuning the model by searching the best parameters\n",
    "print(\"best params :\",best_params)  "
   ]
  },
  {
   "cell_type": "markdown",
   "metadata": {},
   "source": [
    "Model training and evaluation using the confusion matrix\n",
    "This is the process of training the model using the best parameters obtained from the previous tuning process. It then evaluates the model's performance by generating and displaying a confusion matrix"
   ]
  },
  {
   "cell_type": "code",
   "execution_count": 12,
   "metadata": {},
   "outputs": [
    {
     "name": "stdout",
     "output_type": "stream",
     "text": [
      "Training the model with the optimized parameters...\n"
     ]
    },
    {
     "data": {
      "image/png": "[encoded data removed]",
      "text/plain": [
       "<Figure size 640x480 with 2 Axes>"
      ]
     },
     "metadata": {},
     "output_type": "display_data"
    }
   ],
   "source": [
    "from models import build_model, evaluate_model, save_model, train_model\n",
    "from visualizers import plot_confusion_matrix\n",
    "from sklearn.metrics import confusion_matrix,ConfusionMatrixDisplay\n",
    "import matplotlib.pyplot as plt\n",
    "#Selecting the hyperparameter, the model is trained using train model\n",
    "#The trained model is saved using save_model\n",
    "#Y_pred is the prediction made using the trained model on X_test.\n",
    "# Confusion matrix is generated and displayed.\n",
    "print(\"Training the model with the optimized parameters...\")\n",
    "optimized_model = build_model(params=best_params)\n",
    "trained_model=train_model(optimized_model,X_train,y_train)\n",
    "save_model(trained_model,\"optimized_model.pkl\")\n",
    "y_pred =trained_model.predict(X_test)\n",
    "conf_matrix = confusion_matrix(y_test,y_pred)\n",
    "#Display of confusion matrix\n",
    "disp = ConfusionMatrixDisplay(confusion_matrix=conf_matrix)\n",
    "disp.plot(cmap=\"Blues\")\n",
    "plt.title(\"Confusion Matrix - Optimized Model\")\n",
    "plt.show()\n",
    "# <ASSIGNMENT 3.9: Train the optimized model and plot the confusion matrix>"
   ]
  },
  {
   "cell_type": "markdown",
   "metadata": {},
   "source": [
    "Confusion matrix scores and recommendations\n"
   ]
  },
  {
   "cell_type": "code",
   "execution_count": 18,
   "metadata": {},
   "outputs": [
    {
     "name": "stdout",
     "output_type": "stream",
     "text": [
      "True Positive: 5261\n",
      "True Negative: 6597\n",
      "False Positive: 246\n",
      "False Negative: 110\n",
      "Accuracy: 0.9708531193712133\n",
      "Precision: 0.955329580533866\n",
      "Recall: 0.9795196425246695\n",
      "F1 Score: 0.9672733958448244\n",
      "\n",
      "Recommendations are :\n",
      "1) Based on the high recall and high precision scores, we can say that the model is generally performing well.\n",
      "2) 246 false positives represent a critical error, as non-edible mushrooms are classified as edible.\n",
      "3) 110 false negatives indicate that edible mushrooms are classified as non-edible.\n",
      "4) To reduce false negatives, we need to adjust the threshold. This may lead to overfitting the model but prioritizes safety.\n",
      "5) The model should be trained periodically with new learnings.\n",
      "6) Improving the quality of the dataset and increasing the dataset size is essential.\n",
      "7) Given the critical nature of false positives, an alert system should be developed to warn users or provide additional information \n",
      "    when the model predicts an edible mushroom.\n",
      "\n"
     ]
    }
   ],
   "source": [
    "# <ASSIGNMENT 3.10: Interpret the confusion matrix and offer a recommendation>\n",
    "from sklearn.metrics import confusion_matrix,ConfusionMatrixDisplay,accuracy_score,f1_score,precision_score,recall_score\n",
    "TP = conf_matrix[1, 1]  # True Positives\n",
    "TN = conf_matrix[0, 0]  # True Negatives\n",
    "FP = conf_matrix[0, 1]  # False Positives\n",
    "FN = conf_matrix[1, 0]  # False Negatives\n",
    "print(\"True Positive:\",TP)\n",
    "print(\"True Negative:\",TN)\n",
    "print(\"False Positive:\",FP)\n",
    "print(\"False Negative:\",FN)\n",
    "# Here we are calculating the scores from the confusion matrix.\n",
    "accuracy = accuracy_score(y_test, y_pred)\n",
    "precision = precision_score(y_test, y_pred)\n",
    "recall = recall_score(y_test, y_pred)\n",
    "f1 = f1_score(y_test, y_pred)\n",
    "print(f\"Accuracy: {accuracy}\")\n",
    "print(f\"Precision: {precision}\")\n",
    "print(f\"Recall: {recall}\")\n",
    "print(f\"F1 Score: {f1}\")\n",
    "\n",
    "#Recommendations based on scores\n",
    "Recommendation = \"\"\"\n",
    "Recommendations are :\n",
    "1) Based on the high recall and high precision scores, we can say that the model is generally performing well.\n",
    "2) 246 false positives represent a critical error, as non-edible mushrooms are classified as edible.\n",
    "3) 110 false negatives indicate that edible mushrooms are classified as non-edible.\n",
    "4) To reduce false negatives, we need to adjust the threshold. This may lead to overfitting the model but prioritizes safety.\n",
    "5) The model should be trained periodically with new learnings.\n",
    "6) Improving the quality of the dataset and increasing the dataset size is essential.\n",
    "7) Given the critical nature of false positives, an alert system should be developed to warn users or provide additional information \n",
    "    when the model predicts an edible mushroom.\n",
    "\"\"\"\n",
    "print (Recommendation)"
   ]
  },
  {
   "cell_type": "code",
   "execution_count": 11,
   "metadata": {},
   "outputs": [],
   "source": [
    "# <ASSIGNMENT 3.12: Prepare the notebook for presentation to the client by adding appropriate text and comments>"
   ]
  }
 ],
 "metadata": {
  "kernelspec": {
   "display_name": "Python 3.9.15 ('kaggle39')",
   "language": "python",
   "name": "python3"
  },
  "language_info": {
   "codemirror_mode": {
    "name": "ipython",
    "version": 3
   },
   "file_extension": ".py",
   "mimetype": "text/x-python",
   "name": "python",
   "nbconvert_exporter": "python",
   "pygments_lexer": "ipython3",
   "version": "3.12.4"
  },
  "orig_nbformat": 4,
  "vscode": {
   "interpreter": {
    "hash": "bedf1fa1c9f2548152fd5e5a3d38dce4b37779f7f1dfd6c3fd9ba48fd4b3a0b7"
   }
  }
 },
 "nbformat": 4,
 "nbformat_minor": 2
}

{
 "cells": [
  {
   "cell_type": "markdown",
   "metadata": {},
   "source": [
    "# User interface and prediction\n",
    "\n",
    "In this notebook you should prototype (a first rough version of) the user interface. A Jupyter notebook provides you with a runtime environment for experimenting with your code. They are also great for showcasing functionality to your client. Therefore, make sure that your notebooks remain presentable after you're done experimenting.\n",
    "\n",
    "Before you can run the code in a notebook you'll need to select a _kernel_ that specifies the python version and Virtual Environment for running this notebook. Top-right in VSCode you'll find a \"Select Kernel\" button that opens a menu to change kernels. From this menu, select the `mushroom312` kernel. Then you can select the cells below and run them with `shift-enter`."
   ]
  },
  {
   "cell_type": "code",
   "execution_count": 1,
   "metadata": {},
   "outputs": [],
   "source": [
    "# Automatically re-import files when updated\n",
    "%load_ext autoreload\n",
    "%autoreload 2"
   ]
  },
  {
   "cell_type": "markdown",
   "metadata": {},
   "source": [
    "## Load Data"
   ]
  },
  {
   "cell_type": "code",
   "execution_count": 2,
   "metadata": {},
   "outputs": [
    {
     "name": "stdout",
     "output_type": "stream",
     "text": [
      "12214\n"
     ]
    }
   ],
   "source": [
    "#Import the function to load data from the data loader module   \n",
    "from data_loader import load_data\n",
    "\n",
    "# Load some data from the test directory to play around with\n",
    "#'load_data' reads data from a specific path\n",
    "# The path is given as test to load a test data set\n",
    "raw_data = load_data(data_path=\"test\")"
   ]
  },
  {
   "cell_type": "markdown",
   "metadata": {},
   "source": [
    "Here we do the loading of data into the system for our analysis. The function data_load is used read the data. Further we have done structuring of data for further processing."
   ]
  },
  {
   "cell_type": "code",
   "execution_count": 3,
   "metadata": {},
   "outputs": [
    {
     "data": {
      "text/plain": [
       "('cap-shape', 'b')"
      ]
     },
     "execution_count": 3,
     "metadata": {},
     "output_type": "execute_result"
    }
   ],
   "source": [
    "\n",
    "#Import the function to sanitize the data\n",
    "from data_loader import sanitize_data_entry\n",
    "\n",
    "#This shows how function handles the input data, here cap-shape is a feature of the mushroom and b is the input value eg Bell shape\n",
    "#Sanitize_data_entry helps us to remove whitespaces and to get consistant format (eg:- lower case)\n",
    "#sanitize_data_entry also valides the data if its accecptable or not.\n",
    "sanitize_data_entry(\"cap-shape\", \"b\")"
   ]
  },
  {
   "cell_type": "markdown",
   "metadata": {},
   "source": [
    "## User Interface"
   ]
  },
  {
   "cell_type": "markdown",
   "metadata": {},
   "source": [
    "Here we will see how the user data is handled in the system.\n",
    "This is the code where the user data will be actually recorded by the system\n",
    "This will allow to interact with the users\n",
    "In the end we will display the output which will help us verify the user inputs."
   ]
  },
  {
   "cell_type": "code",
   "execution_count": 4,
   "metadata": {},
   "outputs": [],
   "source": [
    "# Query the user for input\n",
    "#importing the function to query_input_data\n",
    "\n",
    "from data_loader import query_input_data\n",
    "\n",
    "#This function will allow the user to enter the data for various features of the mushroom\n",
    "# it will return a data frame with sanitized user input\n",
    "# this data is further used for predictions\n",
    "\n",
    "raw_data = query_input_data()"
   ]
  },
  {
   "cell_type": "code",
   "execution_count": 5,
   "metadata": {},
   "outputs": [
    {
     "data": {
      "text/html": [
       "<div>\n",
       "<style scoped>\n",
       "    .dataframe tbody tr th:only-of-type {\n",
       "        vertical-align: middle;\n",
       "    }\n",
       "\n",
       "    .dataframe tbody tr th {\n",
       "        vertical-align: top;\n",
       "    }\n",
       "\n",
       "    .dataframe thead th {\n",
       "        text-align: right;\n",
       "    }\n",
       "</style>\n",
       "<table border=\"1\" class=\"dataframe\">\n",
       "  <thead>\n",
       "    <tr style=\"text-align: right;\">\n",
       "      <th></th>\n",
       "      <th>cap-diameter</th>\n",
       "      <th>cap-shape</th>\n",
       "      <th>cap-surface</th>\n",
       "      <th>cap-color</th>\n",
       "      <th>does-bruise-or-bleed</th>\n",
       "      <th>gill-attachment</th>\n",
       "      <th>gill-spacing</th>\n",
       "      <th>gill-color</th>\n",
       "      <th>stem-height</th>\n",
       "      <th>stem-width</th>\n",
       "      <th>stem-root</th>\n",
       "      <th>stem-surface</th>\n",
       "      <th>stem-color</th>\n",
       "      <th>veil-type</th>\n",
       "      <th>veil-color</th>\n",
       "      <th>has-ring</th>\n",
       "      <th>ring-type</th>\n",
       "      <th>spore-print-color</th>\n",
       "      <th>habitat</th>\n",
       "      <th>season</th>\n",
       "    </tr>\n",
       "  </thead>\n",
       "  <tbody>\n",
       "    <tr>\n",
       "      <th>0</th>\n",
       "      <td>10.0</td>\n",
       "      <td>3</td>\n",
       "      <td>i</td>\n",
       "      <td>n</td>\n",
       "      <td>t</td>\n",
       "      <td>a</td>\n",
       "      <td>d</td>\n",
       "      <td>p</td>\n",
       "      <td>12.0</td>\n",
       "      <td>13.0</td>\n",
       "      <td>b</td>\n",
       "      <td>i</td>\n",
       "      <td>n</td>\n",
       "      <td>p</td>\n",
       "      <td>g</td>\n",
       "      <td>t</td>\n",
       "      <td>c</td>\n",
       "      <td>n</td>\n",
       "      <td>m</td>\n",
       "      <td>w</td>\n",
       "    </tr>\n",
       "  </tbody>\n",
       "</table>\n",
       "</div>"
      ],
      "text/plain": [
       "   cap-diameter cap-shape cap-surface cap-color does-bruise-or-bleed  \\\n",
       "0          10.0         3           i         n                    t   \n",
       "\n",
       "  gill-attachment gill-spacing gill-color  stem-height  stem-width stem-root  \\\n",
       "0               a            d          p         12.0        13.0         b   \n",
       "\n",
       "  stem-surface stem-color veil-type veil-color has-ring ring-type  \\\n",
       "0            i          n         p          g        t         c   \n",
       "\n",
       "  spore-print-color habitat season  \n",
       "0                 n       m      w  "
      ]
     },
     "execution_count": 5,
     "metadata": {},
     "output_type": "execute_result"
    }
   ],
   "source": [
    "#Printing the data\n",
    "raw_data"
   ]
  },
  {
   "cell_type": "code",
   "execution_count": null,
   "metadata": {},
   "outputs": [],
   "source": [
    "# <ASSIGNMENT 2.5: Prepare the notebook for presentation to the client by adding appropriate text and comments>"
   ]
  },
  {
   "cell_type": "markdown",
   "metadata": {},
   "source": [
    "## Prediction"
   ]
  },
  {
   "cell_type": "code",
   "execution_count": 13,
   "metadata": {},
   "outputs": [
    {
     "name": "stdout",
     "output_type": "stream",
     "text": [
      "The mushroom is Non-Edible.\n"
     ]
    }
   ],
   "source": [
    "from models import load_model, predict\n",
    "from pipelines import apply_pipeline, load_pipeline\n",
    "pipeline = load_pipeline()\n",
    "model = load_model(\"optimized_model.pkl\")\n",
    "raw_user_input = query_input_data()\n",
    "input,_ = apply_pipeline(pipeline,raw_user_input)\n",
    "prediction = predict(model,input)\n",
    "if len(input.shape) == 1:                           \n",
    "    input_data = input.reshape(1, -1)\n",
    "if prediction == 1:\n",
    "    print(\"The mushroom is edible.\")\n",
    "else:\n",
    "    print(\"The mushroom is Non-Edible.\")\n",
    "\n",
    "# <ASSIGNMENT 3.11: Predict edibility for the user-provided input>"
   ]
  }
 ],
 "metadata": {
  "kernelspec": {
   "display_name": "Python 3.9.15 ('kaggle39')",
   "language": "python",
   "name": "python3"
  },
  "language_info": {
   "codemirror_mode": {
    "name": "ipython",
    "version": 3
   },
   "file_extension": ".py",
   "mimetype": "text/x-python",
   "name": "python",
   "nbconvert_exporter": "python",
   "pygments_lexer": "ipython3",
   "version": "3.12.4"
  },
  "orig_nbformat": 4,
  "vscode": {
   "interpreter": {
    "hash": "bedf1fa1c9f2548152fd5e5a3d38dce4b37779f7f1dfd6c3fd9ba48fd4b3a0b7"
   }
  }
 },
 "nbformat": 4,
 "nbformat_minor": 2
}
